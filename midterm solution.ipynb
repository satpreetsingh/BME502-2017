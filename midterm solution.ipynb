{
 "cells": [
  {
   "cell_type": "markdown",
   "metadata": {},
   "source": [
    "Omar Osman, Marc Pomeroy, & Elisabeth Steadman "
   ]
  },
  {
   "cell_type": "markdown",
   "metadata": {},
   "source": [
    "(1) Given a true model of $f(x_i,\\theta)$, we can compute the likelihood function $P(Data | Model)=P[y_i | f(x_i,\\theta)]$ if the error follows a bimodal normal distribution.  If each peak is centered at  $f(x_i,\\theta) \\pm \\Delta y$ with width $\\sigma$, we can write the probability of finding a data point $y_i$ given each of the peaks. Then,\n",
    "\n",
    "$P(y_i|left)=\\frac{1}{\\sqrt{2 \\pi \\sigma^2}}exp \\lbrack \\frac{-(y_i-f(x_i,\\theta)+\\Delta y)^2}{2 \\sigma^2} \\rbrack$\n",
    "\n",
    "$P(y_i|right)=\\frac{1}{\\sqrt{2 \\pi \\sigma^2}}exp \\lbrack \\frac{-(y_i-f(x_i,\\theta)-\\Delta y)^2}{2 \\sigma^2} \\rbrack$\n",
    "\n",
    "Since the probability of choosing each peak is the same, $P(left)=P(right)=1/2$. Then we can write the probability of finding a data point $y_i$ given $f(x_i,\\theta)$ as:\n",
    "\n",
    "$P(y_i|f(x_i,\\theta))=P(y_i|left) P(left) + P(y_i|right) P(right)$\n",
    "\n",
    "$P(y_i|f(x_i,\\theta)) = \\frac{1}{2\\sqrt{2\\pi\\sigma^2}} \\Big\\{ exp \\big\\lbrack \\frac{-(y_i-f(x_i,\\theta)+\\Delta y)^2}{2 \\sigma^2} \\big\\rbrack + exp \\big\\lbrack \\frac{-(y_i-f(x_i,\\theta)-\\Delta y)^2}{2 \\sigma^2} \\big\\rbrack \\Big\\}$\n",
    "\n",
    "The likelihood function is therefore the product of the probabilities for each individual data point $y_i$ in the set of N datapoints $\\{ y_i \\}$:\n",
    "\n",
    "$P(\\{y_i\\}|f(\\{x_i\\},\\theta))=\\prod\\limits_{i=1}^{N}P(y_i|f(x_i,\\theta))$\n",
    "\n",
    "$P(\\{y_i\\}|f(\\{x_i\\},\\theta))=\\prod\\limits_{i=1}^{N} \\frac{1}{2\\sqrt{2\\pi\\sigma^2}} \\Big\\{ exp \\big\\lbrack \\frac{-(y_i-f(x_i,\\theta)+\\Delta y)^2}{2 \\sigma^2} \\big\\rbrack + exp \\big\\lbrack \\frac{-(y_i-f(x_i,\\theta)-\\Delta y)^2}{2 \\sigma^2} \\big\\rbrack \\Big\\}$\n",
    "\n",
    "Or, we can write simplify this using the hyperbolic cosine function:\n",
    "\n",
    "$P(\\{y_i\\}|f(\\{x_i\\},\\theta))=\\prod\\limits_{i=1}^{N} \\frac{1}{2\\sqrt{2\\pi\\sigma^2}} exp \\big\\lbrack  \\frac{-\\lbrack (y_i-a-bx_i)^2+\\Delta y^2 \\rbrack}{2\\sigma^2}  \\big\\rbrack  \\Big\\{ exp \\big\\lbrack \\frac{\\Delta y(y_i-a-bx_i)}{\\sigma^2} \\big\\rbrack + exp \\big\\lbrack \\frac{-\\Delta y(y_i-a-bx_i)}{\\sigma^2} \\big\\rbrack \\Big\\}$\n",
    "\n",
    "$P(\\{y_i\\}|f(\\{x_i\\},\\theta))=\\prod\\limits_{i=1}^{N} \\frac{1}{\\sqrt{2\\pi\\sigma^2}} exp \\big\\lbrack  \\frac{-\\lbrack (y_i-a-bx_i)^2+\\Delta y^2 \\rbrack}{2\\sigma^2}  \\big\\rbrack cosh \\big\\lbrack \\frac{\\Delta y(y_i-a-bx_i)}{\\sigma^2} \\big\\rbrack $"
   ]
  },
  {
   "cell_type": "markdown",
   "metadata": {
    "collapsed": true
   },
   "source": [
    "(2) First, we develop a function to randomly generate errors drawn from a bimodal distribution, with peaks at $\\pm \\Delta y$ "
   ]
  },
  {
   "cell_type": "code",
   "execution_count": 32,
   "metadata": {
    "collapsed": true
   },
   "outputs": [],
   "source": [
    "%matplotlib inline\n",
    "import numpy as np\n",
    "import matplotlib.pylab as plt\n",
    "from scipy.stats import chi2\n",
    "import scipy.optimize as sciop"
   ]
  },
  {
   "cell_type": "code",
   "execution_count": 33,
   "metadata": {
    "collapsed": false
   },
   "outputs": [
    {
     "data": {
      "text/plain": [
       "[<matplotlib.lines.Line2D at 0x9630fa2390>]"
      ]
     },
     "execution_count": 33,
     "metadata": {},
     "output_type": "execute_result"
    },
    {
     "data": {
      "image/png": "[encoded data removed]",
      "text/plain": [
       "<matplotlib.figure.Figure at 0x963243f630>"
      ]
     },
     "metadata": {},
     "output_type": "display_data"
    }
   ],
   "source": [
    "#generating a data set with bimodal error\n",
    "N=20\n",
    "x=np.linspace(-10,10,N)\n",
    "delta_y=5\n",
    "sigma=1\n",
    "def dataset(N):\n",
    "    for i in range(N):\n",
    "        choose_dist=np.random.randint(0,2,N)\n",
    "        error=np.where(choose_dist,np.random.normal(-delta_y,sigma,N),np.random.normal(delta_y,sigma,N))\n",
    "        y=3*x+error\n",
    "    return y\n",
    "y=dataset(N)\n",
    "plt.plot(x,y,'o')"
   ]
  },
  {
   "cell_type": "markdown",
   "metadata": {},
   "source": [
    "In order to simplify the computation, we take the negative log of likelihood function. Since the logarithm is monotonically increasing, the minimum of the negative log likelihood has the same parameters as the maximum of the original likelihood function.\n",
    "\n",
    "$-log \\big\\lbrack P(\\{y_i\\}|f(\\{x_i\\},\\theta))\\big\\rbrack =-log \\Big\\{  \\prod\\limits_{i=1}^{N} \\frac{1}{\\sqrt{2\\pi\\sigma^2}} exp \\big\\lbrack  \\frac{-\\lbrack (y_i-a-bx_i)^2+\\Delta y^2 \\rbrack}{2\\sigma^2}  \\big\\rbrack cosh \\big\\lbrack \\frac{\\Delta y(y_i-a-bx_i)}{\\sigma^2} \\big\\rbrack \\Big\\} $\n",
    "\n",
    "$-log \\big\\lbrack P(\\{y_i\\}|f(\\{x_i\\},\\theta))\\big\\rbrack =-log \\big\\lbrack\\frac{1}{\\sqrt{2\\pi\\sigma^2}}\\big\\rbrack - \\sum \\limits_{i=1}^{N} \\frac{-\\lbrack (y_i-a-bx_i)^2+\\Delta y^2 \\rbrack}{2\\sigma^2}-\\sum \\limits_{i=1}^{N} log \\big\\{ cosh \\big\\lbrack \\frac{\\Delta y (y_i-a-bx_i)}{\\sigma^2}  \\big\\rbrack \\big\\}$\n",
    "\n",
    "The minimum of this function occurs where the derivatives with respect to each parameter a, b, and $\\Delta y$ are zero. The partial derivatives are then:\n",
    "\n",
    "$\\frac{d}{da} \\Big\\{ -log \\big\\lbrack P(\\{y_i\\}|f(\\{x_i\\},\\theta))\\big\\rbrack \\Big\\} = -\\sum \\limits_{i=1}^{N} \\Big\\{ \\frac{y_i-a-bx_i}{\\sigma^2} - (\\Delta y) tanh \\big\\lbrack \\frac{\\Delta y(y_i-a-bx_i)}{\\sigma^2} \\big\\rbrack \\Big\\}=0$\n",
    "\n",
    "$\\frac{d}{db} \\Big\\{ -log \\big\\lbrack P(\\{y_i\\}|f(\\{x_i\\},\\theta))\\big\\rbrack \\Big\\} = -\\sum \\limits_{i=1}^{N}  \\Big\\{ \\frac{x_i(y_i-a-bx_i)}{\\sigma^2} -(x_i \\Delta y) tanh \\big\\lbrack \\frac{\\Delta y(y_i-a-bx_i)}{\\sigma^2} \\big\\rbrack \\Big\\}=0$\n",
    "\n",
    "$\\frac{d}{d\\Delta y} \\Big\\{ -log \\big\\lbrack P(\\{y_i\\}|f(\\{x_i\\},\\theta))\\big\\rbrack \\Big\\} = -\\sum \\limits_{i=1}^{N}  \\Big\\{  \\frac{-\\Delta y}{\\sigma^2} + (y_i-a-bx_i) tanh \\big\\lbrack \\frac{\\Delta y(y_i-a-bx_i)}{\\sigma^2} \\big\\rbrack \\Big\\}=0$\n",
    "\n",
    "To solve this we use the scipy.optimize.root function to find the roots of the Jacobian, which give us the parameters a and b of our best fit line."
   ]
  },
  {
   "cell_type": "code",
   "execution_count": 34,
   "metadata": {
    "collapsed": false
   },
   "outputs": [
    {
     "name": "stdout",
     "output_type": "stream",
     "text": [
      "369.532408816\n"
     ]
    }
   ],
   "source": [
    "#Generate function for negative log likelihood\n",
    "def neg_log_likelihood(theta,x,y):   #theta = [a,b,delta_y]\n",
    "    left_peak=np.exp((-1)*np.power(y-theta[0]-theta[1]*x+theta[2],2)/(2*sigma**2))\n",
    "    right_peak=np.exp((-1)*np.power(y-theta[0]-theta[1]*x-theta[2],2)/(2*sigma**2))\n",
    "    Prob_i=(-1)*np.log(1/(2*np.sqrt(2*np.pi*sigma**2))*(left_peak+right_peak))\n",
    "    Prob_all=Prob_i.sum()\n",
    "    return Prob_all\n",
    "\n",
    "print(neg_log_likelihood([1,2,3],x,y))"
   ]
  },
  {
   "cell_type": "code",
   "execution_count": 35,
   "metadata": {
    "collapsed": false
   },
   "outputs": [],
   "source": [
    "#Generate functions for partial derivatives of negative log likelihood\n",
    "def jacobian2(theta,x,y,delta_y):  #we know delta_y\n",
    "    tanh = np.tanh(delta_y*(y-theta[0]-theta[1]*x)/sigma**2)\n",
    "    da = (y-theta[0]-theta[1]*x)/sigma**2 - delta_y*tanh\n",
    "    db = x*(y-theta[0]-theta[1]*x)/sigma**2 - x*delta_y*tanh\n",
    "    return np.array([da.sum(),db.sum()],)\n",
    "\n",
    "def jacobian3(theta,x,y):  #delta_y is a parameter\n",
    "    tanh = np.tanh(theta[2]*(y-theta[0]-theta[1]*x)/sigma**2)\n",
    "    da = (y-theta[0]-theta[1]*x)/sigma**2 - theta[2]*tanh\n",
    "    db = x*(y-theta[0]-theta[1]*x)/sigma**2 - x*theta[2]*tanh\n",
    "    ddy = da = -1*theta[2]/sigma**2 - (y-theta[0]-theta[1]*x)*tanh\n",
    "    return np.array([da.sum(),db.sum(),ddy.sum()],)"
   ]
  },
  {
   "cell_type": "code",
   "execution_count": 36,
   "metadata": {
    "collapsed": false
   },
   "outputs": [
    {
     "name": "stdout",
     "output_type": "stream",
     "text": [
      "    fjac: array([[-0.33950326,  0.94060488],\n",
      "       [-0.94060488, -0.33950326]])\n",
      "     fun: array([  8.88178420e-16,   1.35003120e-13])\n",
      " message: 'The solution converged.'\n",
      "    nfev: 18\n",
      "     qtf: array([  2.61909237e-09,  -1.40206477e-09])\n",
      "       r: array([  41.93080519, -882.29667151,  351.45621547])\n",
      "  status: 1\n",
      " success: True\n",
      "       x: array([ 0.04847297,  3.01457962])\n"
     ]
    }
   ],
   "source": [
    "res=sciop.root(jacobian2,x0=[0.0,0.0],args=(x,y,delta_y))\n",
    "print(res)"
   ]
  },
  {
   "cell_type": "code",
   "execution_count": 37,
   "metadata": {
    "collapsed": false
   },
   "outputs": [
    {
     "data": {
      "image/png": "[encoded data removed]",
      "text/plain": [
       "<matplotlib.figure.Figure at 0x962de71ba8>"
      ]
     },
     "metadata": {},
     "output_type": "display_data"
    }
   ],
   "source": [
    "#Make pretty plot showing best fit line\n",
    "[a,b]=res.x\n",
    "points=plt.plot(x,y,'o')\n",
    "best_fit=plt.plot(x,(a+b*x))"
   ]
  },
  {
   "cell_type": "markdown",
   "metadata": {
    "collapsed": true
   },
   "source": [
    "(3) To instead fit the data to two parallel lines of intercept a, slope b, and separation 2$\\Delta y$, we first develop a method to separate the data points into two groups associated with each peak. This is done by using a linear polynomial fit of the entire data set, and comparing each point against that line (either above of below). Once we have the groups of data points, we again use the linear polynomial fit on each to generate a slope and intercept. We then generate the two equations for the lines as follows:\n",
    "\n",
    "$y_{below} = a+bx-\\Delta y$\n",
    "\n",
    "$y_{above} = a+bx+\\Delta y$\n",
    "\n",
    "Where $a=\\frac{a_{above}+a_{below}}{2}$, $b=\\frac{b_{above}+b_{below}}{2}$, and $\\Delta y =\\frac{|b_{above}-b_{below}|}{2}$\n",
    "\n",
    "We then compute $\\chi^2$ by adding the square of the residuals for each data set:\n",
    "\n",
    "$\\chi^2=\\sum\\limits_{i=1}^{N_{below}} (y_i-y_{below})^2 + \\sum\\limits_{i=1}^{N_{above}} (y_i-y_{above})^2=\\sum\\limits_{i=1}^{N_{below}} (y_i-a-bx_i+\\Delta y)^2 + \\sum\\limits_{i=1}^{N_{above}} (y_i--a-bx_i-\\Delta y)^2$\n",
    "\n",
    "We then generate a $\\chi^2$ probability distribution function with a peak at N-3, since there are 3 parameters used, and compare this to a histogram plot of the $\\chi^2$ values"
   ]
  },
  {
   "cell_type": "code",
   "execution_count": 38,
   "metadata": {
    "collapsed": true
   },
   "outputs": [],
   "source": [
    "#Separate data based on single best fit line\n",
    "def separate(x,y,a,b):\n",
    "    fit_line = a+b*x\n",
    "    is_above = y >= fit_line\n",
    "    x_above = x[is_above]\n",
    "    y_above = y[is_above]\n",
    "    x_below = x[np.logical_not(is_above)]\n",
    "    y_below = y[np.logical_not(is_above)]\n",
    "    return (x_above, y_above, x_below, y_below)"
   ]
  },
  {
   "cell_type": "code",
   "execution_count": 39,
   "metadata": {
    "collapsed": false
   },
   "outputs": [],
   "source": [
    "chisq_list_pf = []\n",
    "for i in range(1000):\n",
    "    y_pf = dataset(N)\n",
    "    b,a = np.polyfit(x, y_pf, 1)\n",
    "    [x_above,y_above,x_below,y_below]=separate(x,y_pf,a,b)\n",
    "    p_above = np.polyfit(x_above,y_above,1)\n",
    "    p_below = np.polyfit(x_below,y_below,1)\n",
    "    b = (p_above[0] + p_below[0])/2\n",
    "    a = (p_above[1] + p_below[1])/2\n",
    "    delta_y_pf = np.abs((p_above[1]-p_below[1])/2)\n",
    "    res_above_pf = a+b*x_above+delta_y_pf\n",
    "    res_below_pf = a+b*x_below-delta_y_pf\n",
    "    chi2_pf = np.sum((y_above - res_above_pf)**2) + np.sum((y_below - res_below_pf)**2)\n",
    "    chisq_list_pf.append(chi2_pf)"
   ]
  },
  {
   "cell_type": "code",
   "execution_count": 40,
   "metadata": {
    "collapsed": false
   },
   "outputs": [],
   "source": [
    "#Generate chi2 pdf for N-3 points\n",
    "chi=np.linspace(0,60,200)\n",
    "chi2distr=chi2.pdf(chi,N-3)"
   ]
  },
  {
   "cell_type": "code",
   "execution_count": 41,
   "metadata": {
    "collapsed": false
   },
   "outputs": [
    {
     "data": {
      "text/plain": [
       "[<matplotlib.lines.Line2D at 0x9633541208>]"
      ]
     },
     "execution_count": 41,
     "metadata": {},
     "output_type": "execute_result"
    },
    {
     "data": {
      "image/png": "[encoded data removed]",
      "text/plain": [
       "<matplotlib.figure.Figure at 0x9633541240>"
      ]
     },
     "metadata": {},
     "output_type": "display_data"
    }
   ],
   "source": [
    "#Compare histogram w/ chi2 pdf\n",
    "plt.hist(chisq_list_pf,range=(0,50),bins=50,normed=True)\n",
    "plt.plot(chi,chi2distr)"
   ]
  },
  {
   "cell_type": "markdown",
   "metadata": {
    "collapsed": true
   },
   "source": [
    "(BONUS!)\n",
    "\n",
    "The full Bayesian expression is given (simply) by:\n",
    "\n",
    "$P(M|D)=\\frac{P(D|M)P(M)}{P(D)}=\\frac{P(D|M)P(M)}{\\sum\\limits_{j} P(D|M_j)P(M_j)}$\n",
    "\n",
    "Where P(D|M) is given by our likelihood function, or \n",
    "\n",
    "$P(D|M)=P(\\{y_i\\}|f(\\{x_i\\},\\theta))=\\prod\\limits_{i=1}^{N} \\frac{1}{\\sqrt{2\\pi\\sigma^2}} exp \\big\\lbrack  \\frac{-\\lbrack (y_i-f(x_i,\\theta))^2+\\Delta y^2 \\rbrack}{2\\sigma^2}  \\big\\rbrack cosh \\big\\lbrack \\frac{\\Delta y(y_i-f(x_i,\\theta))}{\\sigma^2} \\big\\rbrack$\n",
    "\n",
    "P(M) is the prior, which gives the probability of the model function being correct. If we assume all functions are equally likely, we have a uniform, improper prior which we set equal to 1. Or,\n",
    "\n",
    "$P(M)=P[f(\\{x_i\\},\\theta)]=1$\n",
    "\n",
    "The denominator term is given by:\n",
    "\n",
    "$P(D)=\\sum\\limits_{j} P(D|M_j)P(M_j)=\\sum\\limits_{j} P(D|M_j)$ since $P(M_j)=1$\n",
    "\n",
    "Then our final expression is given by:\n",
    "\n",
    "$P(M|D)=\\frac{P(D|M)}{\\sum\\limits_{j} P(D|M_j)}=\\frac{\\prod\\limits_{i=1}^{N} \\frac{1}{\\sqrt{2\\pi\\sigma^2}} exp \\big\\lbrack  \\frac{-\\lbrack (y_i-f(x_i,\\theta))^2+\\Delta y^2 \\rbrack}{2\\sigma^2}  \\big\\rbrack cosh \\big\\lbrack \\frac{\\Delta y(y_i-f(x_i,\\theta))}{\\sigma^2} \\big\\rbrack}{\\sum\\limits_{j} \\prod\\limits_{i=1}^{N} \\frac{1}{\\sqrt{2\\pi\\sigma^2}} exp \\big\\lbrack  \\frac{-\\lbrack (y_i-f_j(x_i,\\theta))^2+\\Delta y^2 \\rbrack}{2\\sigma^2}  \\big\\rbrack cosh \\big\\lbrack \\frac{\\Delta y(y_i-f_j(x_i,\\theta))}{\\sigma^2} \\big\\rbrack}$\n",
    "\n",
    "where $f(x_i,\\theta)=a+bx_i$ is our linear function, and $f_j(x_i,\\theta)$ represents all other possible functions"
   ]
  },
  {
   "cell_type": "code",
   "execution_count": null,
   "metadata": {
    "collapsed": true
   },
   "outputs": [],
   "source": []
  }
 ],
 "metadata": {
  "anaconda-cloud": {},
  "kernelspec": {
   "display_name": "Python [default]",
   "language": "python",
   "name": "python3"
  },
  "language_info": {
   "codemirror_mode": {
    "name": "ipython",
    "version": 3
   },
   "file_extension": ".py",
   "mimetype": "text/x-python",
   "name": "python",
   "nbconvert_exporter": "python",
   "pygments_lexer": "ipython3",
   "version": "3.5.2"
  }
 },
 "nbformat": 4,
 "nbformat_minor": 0
}
