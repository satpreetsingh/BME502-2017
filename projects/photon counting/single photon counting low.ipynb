{
 "cells": [
  {
   "cell_type": "code",
   "execution_count": 1,
   "metadata": {
    "collapsed": true
   },
   "outputs": [],
   "source": [
    "%matplotlib inline\n",
    "import numpy as np\n",
    "import pandas as pd\n",
    "import matplotlib.pyplot as plt"
   ]
  },
  {
   "cell_type": "code",
   "execution_count": 2,
   "metadata": {
    "collapsed": true
   },
   "outputs": [],
   "source": [
    "from scipy.stats import expon "
   ]
  },
  {
   "cell_type": "code",
   "execution_count": 3,
   "metadata": {
    "collapsed": false
   },
   "outputs": [],
   "source": [
    "data2 = np.loadtxt(\"low.txt\",dtype=np.dtype('u8'))"
   ]
  },
  {
   "cell_type": "code",
   "execution_count": 4,
   "metadata": {
    "collapsed": false
   },
   "outputs": [
    {
     "data": {
      "text/plain": [
       "5976500"
      ]
     },
     "execution_count": 4,
     "metadata": {},
     "output_type": "execute_result"
    }
   ],
   "source": [
    "data2.size"
   ]
  },
  {
   "cell_type": "code",
   "execution_count": 5,
   "metadata": {
    "collapsed": false
   },
   "outputs": [
    {
     "data": {
      "text/plain": [
       "array([9223372038430766720, 9223372038431682456, 9223372038432133372,\n",
       "       4611686020004929220, 4611686020005206280, 9223372038432703120,\n",
       "       4611686020005590736, 4611686020005844216, 9223372038433312660,\n",
       "       4611686020005967984, 4611686020005967996, 9223372038434747848,\n",
       "       4611686020007423796, 4611686020007648584, 9223372038435152632,\n",
       "       9223372038435696796, 9223372038436099984, 4611686020009054376,\n",
       "       9223372038437137704, 9223372038437679148, 9223372038438500984,\n",
       "       9223372038438612944, 9223372038438878636, 4611686020011969712,\n",
       "       9223372038439670376, 9223372038439944716, 4611686020012638704,\n",
       "       9223372038440196448, 4611686020012823580, 4611686020013461908,\n",
       "       9223372038441090556, 4611686020013730452, 4611686020014388956,\n",
       "       9223372038442229360, 9223372038442931948, 4611686020015903408,\n",
       "       4611686020015925020, 4611686020016489668, 4611686020017062956,\n",
       "       4611686020017062960, 9223372038444769588, 4611686020017411096,\n",
       "       9223372038445855448, 4611686020018484524, 9223372038446120568,\n",
       "       4611686020019039248, 4611686020019293012, 4611686020019349560,\n",
       "       9223372038448326888, 9223372038449139832], dtype=uint64)"
      ]
     },
     "execution_count": 5,
     "metadata": {},
     "output_type": "execute_result"
    }
   ],
   "source": [
    "data2[:50]"
   ]
  },
  {
   "cell_type": "code",
   "execution_count": 6,
   "metadata": {
    "collapsed": false
   },
   "outputs": [
    {
     "name": "stdout",
     "output_type": "stream",
     "text": [
      "4416\n"
     ]
    }
   ],
   "source": [
    "print(9223372036854780224-2**63)"
   ]
  },
  {
   "cell_type": "code",
   "execution_count": 7,
   "metadata": {
    "collapsed": false
   },
   "outputs": [
    {
     "name": "stdout",
     "output_type": "stream",
     "text": [
      "8052\n"
     ]
    }
   ],
   "source": [
    "print(4611686018427395956-2**62)"
   ]
  },
  {
   "cell_type": "code",
   "execution_count": 8,
   "metadata": {
    "collapsed": false
   },
   "outputs": [
    {
     "name": "stdout",
     "output_type": "stream",
     "text": [
      "3173220\n"
     ]
    }
   ],
   "source": [
    "data2_ch1=data2[(data2 & 2**63) >0] & (2**62-1)\n",
    "print(data2_ch1.size)"
   ]
  },
  {
   "cell_type": "code",
   "execution_count": 9,
   "metadata": {
    "collapsed": false
   },
   "outputs": [
    {
     "name": "stdout",
     "output_type": "stream",
     "text": [
      "2803611\n"
     ]
    }
   ],
   "source": [
    "data2_ch2=data2[(data2 & 2**62) >0] & (2**62-1)\n",
    "print(data2_ch2.size)"
   ]
  },
  {
   "cell_type": "code",
   "execution_count": 10,
   "metadata": {
    "collapsed": false
   },
   "outputs": [
    {
     "name": "stdout",
     "output_type": "stream",
     "text": [
      "5976831\n"
     ]
    }
   ],
   "source": [
    "print(data2_ch1.size+data2_ch2.size)"
   ]
  },
  {
   "cell_type": "code",
   "execution_count": 11,
   "metadata": {
    "collapsed": false
   },
   "outputs": [],
   "source": [
    "data2_ch12 = data2[np.logical_and((data2 & 2**63) >0,(data2 & 2**62) >0)] & (2**62-1)"
   ]
  },
  {
   "cell_type": "code",
   "execution_count": 12,
   "metadata": {
    "collapsed": false
   },
   "outputs": [
    {
     "name": "stdout",
     "output_type": "stream",
     "text": [
      "331\n"
     ]
    }
   ],
   "source": [
    "print(data2_ch12.size)"
   ]
  },
  {
   "cell_type": "code",
   "execution_count": 13,
   "metadata": {
    "collapsed": false
   },
   "outputs": [
    {
     "name": "stdout",
     "output_type": "stream",
     "text": [
      "469.278801929\n",
      "414.619557479\n"
     ]
    }
   ],
   "source": [
    "diff_ch1 = np.ediff1d(data2_ch1)*0.0125\n",
    "diff_ch2 = np.ediff1d(data2_ch2)*0.0125\n",
    "print(1e6/diff_ch1.mean())\n",
    "print(1e6/diff_ch2.mean())"
   ]
  },
  {
   "cell_type": "code",
   "execution_count": 14,
   "metadata": {
    "collapsed": false
   },
   "outputs": [
    {
     "data": {
      "text/plain": [
       "(0, 1000)"
      ]
     },
     "execution_count": 14,
     "metadata": {},
     "output_type": "execute_result"
    },
    {
     "data": {
      "image/png": "[encoded data removed]",
      "text/plain": [
       "<matplotlib.figure.Figure at 0x106d347b8>"
      ]
     },
     "metadata": {},
     "output_type": "display_data"
    }
   ],
   "source": [
    "diffx=np.linspace(0,600,100)\n",
    "ch1=plt.hist(diff_ch1, bins=10000, normed=True)\n",
    "plt.plot(diffx,expon.pdf(diffx,scale=diff_ch1.mean()))\n",
    "plt.xlim((0,1000))"
   ]
  },
  {
   "cell_type": "code",
   "execution_count": 15,
   "metadata": {
    "collapsed": false
   },
   "outputs": [
    {
     "data": {
      "text/plain": [
       "(0, 1000)"
      ]
     },
     "execution_count": 15,
     "metadata": {},
     "output_type": "execute_result"
    },
    {
     "data": {
      "image/png": "[encoded data removed]",
      "text/plain": [
       "<matplotlib.figure.Figure at 0x106d34518>"
      ]
     },
     "metadata": {},
     "output_type": "display_data"
    }
   ],
   "source": [
    "ch2=plt.hist(diff_ch2, bins=10000, normed=True)\n",
    "plt.plot(diffx,expon.pdf(diffx,scale=diff_ch2.mean()))\n",
    "plt.xlim((0,1000))"
   ]
  },
  {
   "cell_type": "code",
   "execution_count": 16,
   "metadata": {
    "collapsed": true
   },
   "outputs": [],
   "source": [
    "np.save(\"low_diff_ch1\",diff_ch1)\n",
    "np.save(\"low_diff_ch2\",diff_ch2)"
   ]
  }
 ],
 "metadata": {
  "anaconda-cloud": {},
  "kernelspec": {
   "display_name": "Python [conda env:python3]",
   "language": "python",
   "name": "conda-env-python3-py"
  },
  "language_info": {
   "codemirror_mode": {
    "name": "ipython",
    "version": 3
   },
   "file_extension": ".py",
   "mimetype": "text/x-python",
   "name": "python",
   "nbconvert_exporter": "python",
   "pygments_lexer": "ipython3",
   "version": "3.5.2"
  }
 },
 "nbformat": 4,
 "nbformat_minor": 1
}
