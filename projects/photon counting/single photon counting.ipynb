{
 "cells": [
  {
   "cell_type": "code",
   "execution_count": 82,
   "metadata": {
    "collapsed": true
   },
   "outputs": [],
   "source": [
    "%matplotlib inline\n",
    "import numpy as np\n",
    "import pandas as pd\n",
    "import matplotlib.pyplot as plt"
   ]
  },
  {
   "cell_type": "code",
   "execution_count": 83,
   "metadata": {
    "collapsed": false
   },
   "outputs": [
    {
     "data": {
      "text/plain": [
       "array([     5053,     11881,     13347, ..., 693463382, 693463731,\n",
       "       693466644])"
      ]
     },
     "execution_count": 83,
     "metadata": {},
     "output_type": "execute_result"
    }
   ],
   "source": [
    "data = pd.read_excel('single_photon.xlsx')\n",
    "data = np.array(data['Untitled'])\n",
    "data"
   ]
  },
  {
   "cell_type": "code",
   "execution_count": 84,
   "metadata": {
    "collapsed": true
   },
   "outputs": [],
   "source": [
    "diff = np.ediff1d(data)*0.0125"
   ]
  },
  {
   "cell_type": "code",
   "execution_count": 115,
   "metadata": {
    "collapsed": false
   },
   "outputs": [
    {
     "data": {
      "image/png": "[encoded data removed]",
      "text/plain": [
       "<matplotlib.figure.Figure at 0x123304780>"
      ]
     },
     "metadata": {},
     "output_type": "display_data"
    }
   ],
   "source": [
    "diffhist = plt.hist(diff,bins=50,normed=True)"
   ]
  },
  {
   "cell_type": "code",
   "execution_count": 86,
   "metadata": {
    "collapsed": false
   },
   "outputs": [
    {
     "name": "stdout",
     "output_type": "stream",
     "text": [
      "14884.061244\n"
     ]
    }
   ],
   "source": [
    "avint = data.size/(data[-1]*0.0125e-6)\n",
    "print(avint)"
   ]
  },
  {
   "cell_type": "code",
   "execution_count": 87,
   "metadata": {
    "collapsed": false
   },
   "outputs": [
    {
     "data": {
      "text/plain": [
       "67.185994989110142"
      ]
     },
     "execution_count": 87,
     "metadata": {},
     "output_type": "execute_result"
    }
   ],
   "source": [
    "diff.mean()"
   ]
  },
  {
   "cell_type": "code",
   "execution_count": 88,
   "metadata": {
    "collapsed": true
   },
   "outputs": [],
   "source": [
    "from scipy.stats import expon "
   ]
  },
  {
   "cell_type": "code",
   "execution_count": 113,
   "metadata": {
    "collapsed": false
   },
   "outputs": [
    {
     "data": {
      "text/plain": [
       "[<matplotlib.lines.Line2D at 0x12332fc88>]"
      ]
     },
     "execution_count": 113,
     "metadata": {},
     "output_type": "execute_result"
    },
    {
     "data": {
      "image/png": "[encoded data removed]",
      "text/plain": [
       "<matplotlib.figure.Figure at 0x12332f4e0>"
      ]
     },
     "metadata": {},
     "output_type": "display_data"
    }
   ],
   "source": [
    "diffx=np.linspace(0,600,1000)\n",
    "plt.hist(diff,bins=50,normed=True)\n",
    "plt.plot(diffx,expon.pdf(diffx,scale=diff.mean()))"
   ]
  },
  {
   "cell_type": "code",
   "execution_count": null,
   "metadata": {
    "collapsed": false
   },
   "outputs": [],
   "source": []
  },
  {
   "cell_type": "code",
   "execution_count": 90,
   "metadata": {
    "collapsed": false
   },
   "outputs": [],
   "source": [
    "data2 = np.loadtxt(\"output2.txt\",dtype=np.dtype('u8'))"
   ]
  },
  {
   "cell_type": "code",
   "execution_count": 91,
   "metadata": {
    "collapsed": false
   },
   "outputs": [
    {
     "data": {
      "text/plain": [
       "1016500"
      ]
     },
     "execution_count": 91,
     "metadata": {},
     "output_type": "execute_result"
    }
   ],
   "source": [
    "data2.size"
   ]
  },
  {
   "cell_type": "code",
   "execution_count": 116,
   "metadata": {
    "collapsed": false
   },
   "outputs": [
    {
     "data": {
      "text/plain": [
       "array([9223372036854780224, 4611686018427395956, 4611686018427397172,\n",
       "       4611686018427398876, 4611686018427399904, 9223372036854789448,\n",
       "       4611686018427402528, 9223372036854792672, 9223372036854795624,\n",
       "       9223372036854796364, 4611686018427412616, 9223372036854803292,\n",
       "       9223372036854806464, 9223372036854808408, 9223372036854808748,\n",
       "       4611686018427421768, 4611686018427422784, 4611686018427422992,\n",
       "       9223372036854812436, 9223372036854815028, 9223372036854816184,\n",
       "       4611686018427430028, 9223372036854828936, 9223372036854831408,\n",
       "       4611686018427446728, 4611686018427448048, 9223372036854843672,\n",
       "       4611686018427457996, 4611686018427460872, 9223372036854854080,\n",
       "       9223372036854857408, 4611686018427472448, 4611686018427479168,\n",
       "       4611686018427484872, 4611686018427485320, 9223372036854873320,\n",
       "       9223372036854877336, 4611686018427492760, 4611686018427495800,\n",
       "       4611686018427496568, 9223372036854886352, 9223372036854891420,\n",
       "       4611686018427506208, 9223372036854898728, 4611686018427514544,\n",
       "       4611686018427518348, 9223372036854915812, 9223372036854926344,\n",
       "       4611686018427542144, 9223372036854932836], dtype=uint64)"
      ]
     },
     "execution_count": 116,
     "metadata": {},
     "output_type": "execute_result"
    }
   ],
   "source": [
    "data2[:50]"
   ]
  },
  {
   "cell_type": "code",
   "execution_count": 93,
   "metadata": {
    "collapsed": false
   },
   "outputs": [
    {
     "name": "stdout",
     "output_type": "stream",
     "text": [
      "4416\n"
     ]
    }
   ],
   "source": [
    "print(9223372036854780224-2**63)"
   ]
  },
  {
   "cell_type": "code",
   "execution_count": 94,
   "metadata": {
    "collapsed": false
   },
   "outputs": [
    {
     "name": "stdout",
     "output_type": "stream",
     "text": [
      "8052\n"
     ]
    }
   ],
   "source": [
    "print(4611686018427395956-2**62)"
   ]
  },
  {
   "cell_type": "code",
   "execution_count": 95,
   "metadata": {
    "collapsed": false
   },
   "outputs": [
    {
     "name": "stdout",
     "output_type": "stream",
     "text": [
      "551156\n"
     ]
    }
   ],
   "source": [
    "data2_ch1=data2[(data2 & 2**63) >0] & (2**62-1)\n",
    "print(data2_ch1.size)"
   ]
  },
  {
   "cell_type": "code",
   "execution_count": 96,
   "metadata": {
    "collapsed": false
   },
   "outputs": [
    {
     "name": "stdout",
     "output_type": "stream",
     "text": [
      "465426\n"
     ]
    }
   ],
   "source": [
    "data2_ch2=data2[(data2 & 2**62) >0] & (2**62-1)\n",
    "print(data2_ch2.size)"
   ]
  },
  {
   "cell_type": "code",
   "execution_count": 97,
   "metadata": {
    "collapsed": false
   },
   "outputs": [
    {
     "name": "stdout",
     "output_type": "stream",
     "text": [
      "1016582\n"
     ]
    }
   ],
   "source": [
    "print(data2_ch1.size+data2_ch2.size)"
   ]
  },
  {
   "cell_type": "code",
   "execution_count": 98,
   "metadata": {
    "collapsed": false
   },
   "outputs": [],
   "source": [
    "data2_ch12 = data2[np.logical_and((data2 & 2**63) >0,(data2 & 2**62) >0)] & (2**62-1)"
   ]
  },
  {
   "cell_type": "code",
   "execution_count": 99,
   "metadata": {
    "collapsed": false
   },
   "outputs": [
    {
     "name": "stdout",
     "output_type": "stream",
     "text": [
      "82\n"
     ]
    }
   ],
   "source": [
    "print(data2_ch12.size)"
   ]
  },
  {
   "cell_type": "code",
   "execution_count": 100,
   "metadata": {
    "collapsed": false
   },
   "outputs": [
    {
     "name": "stdout",
     "output_type": "stream",
     "text": [
      "14458.021019\n",
      "12209.2062449\n"
     ]
    }
   ],
   "source": [
    "diff_ch1 = np.ediff1d(data2_ch1)*0.0125\n",
    "diff_ch2 = np.ediff1d(data2_ch2)*0.0125\n",
    "print(1e6/diff_ch1.mean())\n",
    "print(1e6/diff_ch2.mean())"
   ]
  },
  {
   "cell_type": "code",
   "execution_count": 101,
   "metadata": {
    "collapsed": false
   },
   "outputs": [
    {
     "data": {
      "text/plain": [
       "[<matplotlib.lines.Line2D at 0x11c0b1a20>]"
      ]
     },
     "execution_count": 101,
     "metadata": {},
     "output_type": "execute_result"
    },
    {
     "data": {
      "image/png": "[encoded data removed]",
      "text/plain": [
       "<matplotlib.figure.Figure at 0x11c0b1cf8>"
      ]
     },
     "metadata": {},
     "output_type": "display_data"
    }
   ],
   "source": [
    "diffx=np.linspace(0,600,1000)\n",
    "ch1=plt.hist(diff_ch1, bins=50, normed=True)\n",
    "plt.plot(diffx,expon.pdf(diffx,scale=diff_ch1.mean()))"
   ]
  },
  {
   "cell_type": "code",
   "execution_count": 102,
   "metadata": {
    "collapsed": false
   },
   "outputs": [
    {
     "data": {
      "text/plain": [
       "[<matplotlib.lines.Line2D at 0x11c0e5da0>]"
      ]
     },
     "execution_count": 102,
     "metadata": {},
     "output_type": "execute_result"
    },
    {
     "data": {
      "image/png": "[encoded data removed]",
      "text/plain": [
       "<matplotlib.figure.Figure at 0x11c0e97b8>"
      ]
     },
     "metadata": {},
     "output_type": "display_data"
    }
   ],
   "source": [
    "ch2=plt.hist(diff_ch2, bins=50, normed=True)\n",
    "plt.plot(diffx,expon.pdf(diffx,scale=diff_ch2.mean()))"
   ]
  },
  {
   "cell_type": "code",
   "execution_count": 103,
   "metadata": {
    "collapsed": false
   },
   "outputs": [
    {
     "data": {
      "text/plain": [
       "array([  1.30585649e-02,   9.94045058e-03,   7.74868537e-03,\n",
       "         6.09402541e-03,   4.73765050e-03,   3.75856239e-03,\n",
       "         2.91954229e-03,   2.29339991e-03,   1.77113418e-03,\n",
       "         1.41263698e-03,   1.09513529e-03,   8.65603133e-04,\n",
       "         6.84753144e-04,   5.35290344e-04,   4.16574177e-04,\n",
       "         3.22519371e-04,   2.63695084e-04,   2.03696445e-04,\n",
       "         1.58964364e-04,   1.18716167e-04,   9.48021191e-05,\n",
       "         7.54787142e-05,   5.88242879e-05,   4.56929133e-05,\n",
       "         3.62981087e-05,   2.80776546e-05,   2.28464566e-05,\n",
       "         1.86828501e-05,   1.32381337e-05,   1.11029509e-05,\n",
       "         7.47314002e-06,   5.65823459e-06,   3.95008830e-06,\n",
       "         5.55147544e-06,   2.45546029e-06,   2.66897858e-06,\n",
       "         2.24194201e-06,   1.17435057e-06,   1.17435057e-06,\n",
       "         8.54073145e-07,   5.33795716e-07,   7.47314002e-07,\n",
       "         7.47314002e-07,   2.13518286e-07,   3.20277429e-07,\n",
       "         0.00000000e+00,   1.06759143e-07,   1.06759143e-07,\n",
       "         0.00000000e+00,   2.13518286e-07])"
      ]
     },
     "execution_count": 103,
     "metadata": {},
     "output_type": "execute_result"
    }
   ],
   "source": [
    "ch1[0]"
   ]
  },
  {
   "cell_type": "code",
   "execution_count": 104,
   "metadata": {
    "collapsed": false
   },
   "outputs": [],
   "source": [
    "e = expon(scale = 100)\n",
    "simdata = e.rvs(size=500000)"
   ]
  },
  {
   "cell_type": "code",
   "execution_count": 105,
   "metadata": {
    "collapsed": false
   },
   "outputs": [
    {
     "data": {
      "text/plain": [
       "100.32808885883703"
      ]
     },
     "execution_count": 105,
     "metadata": {},
     "output_type": "execute_result"
    }
   ],
   "source": [
    "simdata.mean()"
   ]
  },
  {
   "cell_type": "code",
   "execution_count": 106,
   "metadata": {
    "collapsed": true
   },
   "outputs": [],
   "source": [
    "time_stamps = np.cumsum(simdata)"
   ]
  },
  {
   "cell_type": "code",
   "execution_count": 107,
   "metadata": {
    "collapsed": false
   },
   "outputs": [
    {
     "data": {
      "text/plain": [
       "500000"
      ]
     },
     "execution_count": 107,
     "metadata": {},
     "output_type": "execute_result"
    }
   ],
   "source": [
    "time_stamps.size"
   ]
  },
  {
   "cell_type": "code",
   "execution_count": 108,
   "metadata": {
    "collapsed": false
   },
   "outputs": [],
   "source": [
    "n = 100000\n",
    "indices = np.full(time_stamps.shape, False, bool)\n",
    "randices = np.random.choice(np.arange(indices.shape[0]), n, replace = False)\n",
    "indices[randices] = True\n",
    "\n",
    "time_stamps_remaining = time_stamps[~indices]"
   ]
  },
  {
   "cell_type": "code",
   "execution_count": 109,
   "metadata": {
    "collapsed": false
   },
   "outputs": [
    {
     "data": {
      "text/plain": [
       "400000"
      ]
     },
     "execution_count": 109,
     "metadata": {},
     "output_type": "execute_result"
    }
   ],
   "source": [
    "time_stamps_remaining.size"
   ]
  },
  {
   "cell_type": "code",
   "execution_count": 110,
   "metadata": {
    "collapsed": true
   },
   "outputs": [],
   "source": [
    "diff_sim = np.ediff1d(time_stamps_remaining)"
   ]
  },
  {
   "cell_type": "code",
   "execution_count": 114,
   "metadata": {
    "collapsed": false
   },
   "outputs": [
    {
     "data": {
      "text/plain": [
       "[<matplotlib.lines.Line2D at 0x123a7b828>]"
      ]
     },
     "execution_count": 114,
     "metadata": {},
     "output_type": "execute_result"
    },
    {
     "data": {
      "image/png": "[encoded data removed]",
      "text/plain": [
       "<matplotlib.figure.Figure at 0x1238a2be0>"
      ]
     },
     "metadata": {},
     "output_type": "display_data"
    }
   ],
   "source": [
    "sim = plt.hist(diff_sim, bins=50,normed=True)\n",
    "plt.plot(diffx,expon.pdf(diffx,scale=100))\n",
    "plt.plot(diffx,expon.pdf(diffx,scale=diff_sim.mean()))"
   ]
  },
  {
   "cell_type": "code",
   "execution_count": 112,
   "metadata": {
    "collapsed": false
   },
   "outputs": [
    {
     "data": {
      "text/plain": [
       "[<matplotlib.lines.Line2D at 0x124531320>]"
      ]
     },
     "execution_count": 112,
     "metadata": {},
     "output_type": "execute_result"
    },
    {
     "data": {
      "image/png": "[encoded data removed]",
      "text/plain": [
       "<matplotlib.figure.Figure at 0x124531048>"
      ]
     },
     "metadata": {},
     "output_type": "display_data"
    }
   ],
   "source": [
    "sim = plt.hist(simdata, bins=50, range=(0,600),normed=True)\n",
    "plt.plot(diffx,expon.pdf(diffx,scale=100))"
   ]
  },
  {
   "cell_type": "code",
   "execution_count": null,
   "metadata": {
    "collapsed": true
   },
   "outputs": [],
   "source": []
  }
 ],
 "metadata": {
  "anaconda-cloud": {},
  "kernelspec": {
   "display_name": "Python [conda env:python3]",
   "language": "python",
   "name": "conda-env-python3-py"
  },
  "language_info": {
   "codemirror_mode": {
    "name": "ipython",
    "version": 3
   },
   "file_extension": ".py",
   "mimetype": "text/x-python",
   "name": "python",
   "nbconvert_exporter": "python",
   "pygments_lexer": "ipython3",
   "version": "3.5.2"
  }
 },
 "nbformat": 4,
 "nbformat_minor": 1
}
