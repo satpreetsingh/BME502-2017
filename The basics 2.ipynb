{
 "cells": [
  {
   "cell_type": "code",
   "execution_count": 1,
   "metadata": {
    "collapsed": true
   },
   "outputs": [],
   "source": [
    "%matplotlib inline\n",
    "import numpy as np\n",
    "import matplotlib.pyplot as plt\n",
    "from scipy import stats\n",
    "import seaborn as sns"
   ]
  },
  {
   "cell_type": "markdown",
   "metadata": {},
   "source": [
    "## The basics 2\n",
    "We just learned how to use Bayes theorem to calculate the posterior probability distribution that allows us to make a quantitative assessment of our decision whether we should accept this gambling game or not.  Such decisions are constantly made in the financial industry and Bayesian methods are commonly used in this environment.  In the financial industry the goal is to maximize profit and to minimize losses, so it is imperative to use quantitative tools.  In science, we have the problem that scientists are not in the same situation.  For scientists it is more important to get more grants, to write more papers since this is what is seen as the deliverables of their efforts.  What I would like to teach you is that by following Bayes theorem, we can improve the reliability of our research without sacrificing academic productivity.  We need to know our data though.\n",
    "\n",
    "# Some important properties of Bayes theorem\n",
    "\n",
    "Before we continue, I would like to point out a few important properties of Bayes theorem and its application.  The first property has to do with the way the posterior is calculated.  Let us go back to the coin flipping experiment and assume that we did an experiment with the coin in question that initially involved N=10 coin flips.  We used our prior and by combining it with the Bionomial likelihood, we were able to calculate the posterior:\n",
    "\n",
    "$$P(p \\mid \\alpha,\\beta, N, k) =  \\frac{\\Gamma(\\alpha + \\beta +N)}{\\Gamma(\\alpha+k)\\Gamma(\\beta + N -k)}  p^{\\alpha-1+k}(1-p)^{\\beta-1+N-k}$$\n",
    "\n",
    "Lets now say that we are not quite sure about what to do and we ask the Gambler to let us flip another 10 times.  What we would do is to take the posterior that we derived, use it as our prior and then again use the Bionomial distribution as likelihood.  When looking back at the equations, it is pretty obvious that it does not matter whether you analyze the data sequentially (flip 10 times, calculate the posterior, flip 10 more times, update the posterior) or analyze it in one shot (take result of 20 flips, use prior, calculate posterior).  This is an important property of Bayes theorem.  It should not matter how you do the analysis.  It would be perfectly fine to flip the coin and update the posterior each time.  The result should be the same.  This statement is pretty obvious in our case but it holds in general. Later in this class we will see examples that are much more complicated than simple coin flips and here it sometimes makes sense to perform a complicated analysis with parts of the data and then repeat the process, rather than take all the data at once.  Also, in science it often happens that you measure some data, and you want to see whether it makes sense to persue this direction further.  That is perfectly ok.  If your inital posterior looks promising then go ahead and do some more measurements.  Bayesian analysis allows you to improve your statistics by repeating the experiment.\n",
    "\n",
    "The next property has to do with the shape of the posterior.  We have seen last lecture that a typical outcome of your posterior can be described by the maximum of the distribution (or the 50th percentile) and its width.  In our coin flipping experiment, the maximum will tell you whether or not the gamble will be profitable for you and the width will tell you about the certainty or uncertainty that this will happen.  In the financial market you would be interested whether a stock is likely to go up or down, and what the volatility is.  So lets use our posterior to calculate these quantities.\n",
    "\n",
    "The first thing that we want to do is to take the natural logarithm of the probability distribution.  This will not change the maximum of $P(x)$ since the transformation is monotonic.  This transformation is often using in computational approaches to probability because it turns multiplication into additions.  You will see another reason in the next paragraph.\n",
    "\n",
    "$$logp(x) = \\log(P(x | D)$$\n",
    "\n",
    "Now we can do a Taylor expansion around $x=x_{0}$.  Since we are concerned about a peaked probability distribution we only have a constant term and a quadratic term.\n",
    "\n",
    "$$logp(x) = logp(x_{0}) + \\frac{1}{2}\\frac{d^{2}logp(x)}{dx^{2}}\\big | _{x_{0}}(x-x_{0})^{2}+\\dots$$\n",
    "\n",
    "Putting this back into the previous equation yields:\n",
    "\n",
    "$$P(x|D) \\propto A \\exp\\big[\\frac{1}{2}\\frac{d^{2}logp(x)}{dx^{2}}\\big | _{x_{0}}(x-x_{0})^{2}\\big]$$\n",
    "\n",
    "If you look at this equation you will recognize that what we have just done is to approximate our pdf with a Gaussian distribution.  Gaussian distributions are very commonly found, and the reason for this is beyond this class, but suffice to say that in many cases posterior distributions tend to approach Gaussian distributions for large N (law of large numbers).  Let look at a Gaussian distribution:\n",
    "\n",
    "$$P(x \\mid \\mu, \\sigma) = \\frac{1}{{\\sigma \\sqrt {2\\pi } }}e^{{{ - \\left( {x - \\mu } \\right)^2 } /{2\\sigma ^2 }}}$$\n",
    "\n",
    "The maximum of this distribution can be found by finding the root of the first derivative with respect to x, and the standard deviation can be found by taking the second derivative.  Here is the calculation.  You can check it if you want yourself.  In particuar,\n",
    "\n",
    "$$ \\sigma = \\big(-\\frac{d^{2}logp(x)}{dx^{2}}\\big | _{x_{0}}\\big)^{-\\frac{1}{2}}$$\n",
    "\n",
    "Once we know $\\mu$ and $\\sigma$ we can report our posterior pdf as:\n",
    "\n",
    "$$ x = x_{0} \\pm \\sigma$$\n",
    "\n",
    "Since we approximated our pdf with a Gaussian we also know that true value of x lies in within $\\pm \\sigma$ $67\\%$ of the time and within $\\pm 2\\sigma$ $95\\%$ of the time.\n",
    "\n",
    "Lets get back to our example posterior and see what happens\n",
    "\n",
    "$$P(p \\mid |N,k) \\propto p^{k}(1-p)^{N-k}$$ with\n",
    "$$logp = c + k\\log(p)+(N-k)\\log(1-p)$$\n",
    "\n",
    "The derivatives are:\n",
    "\n",
    "$$\\frac{dlogp}{dp}=\\frac{k}{p}-\\frac{N-k}{1-p}$$\n",
    "$$\\frac{d^2 logp}{dp^2}=-\\frac{k}{p^2}-\\frac{N-k}{(1-p)^2}$$\n",
    "\n",
    "The maximum can be found\n",
    "\n",
    "$$\\frac{dlogp}{dp}\\big | _{p_{0}} = \\frac{k}{p_{0}}-\\frac{N-k}{1-p_{0}}=0$$\n",
    "$$p_{0}=\\frac{k}{N}$$\n",
    "\n",
    "which is not surprising.  The second derivate is then:\n",
    "$$\\frac{d^2 logp}{dp^2}\\big | _{p_{0}}=-\\frac{N}{p_{0}(1-p_{0})}$$\n",
    "\n",
    "$$\\sigma = \\sqrt{\\frac{p_{0}(1-p_{0})}{N}}$$\n",
    "\n",
    "For larger $N$, $p_{0}$ will not change much and the numerator will be essentially constant.  In this regime, the standard deviation $\\mu$ is inversely proportional to the square root of the number of tries.  This is a gern"
   ]
  },
  {
   "cell_type": "code",
   "execution_count": null,
   "metadata": {
    "collapsed": true
   },
   "outputs": [],
   "source": []
  }
 ],
 "metadata": {
  "anaconda-cloud": {},
  "kernelspec": {
   "display_name": "Python [conda env:python3]",
   "language": "python",
   "name": "conda-env-python3-py"
  },
  "language_info": {
   "codemirror_mode": {
    "name": "ipython",
    "version": 3
   },
   "file_extension": ".py",
   "mimetype": "text/x-python",
   "name": "python",
   "nbconvert_exporter": "python",
   "pygments_lexer": "ipython3",
   "version": "3.5.2"
  }
 },
 "nbformat": 4,
 "nbformat_minor": 1
}
