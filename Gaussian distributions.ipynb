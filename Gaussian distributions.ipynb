{
 "cells": [
  {
   "cell_type": "markdown",
   "metadata": {},
   "source": [
    "# Samples from Gaussian distributions\n",
    "in this chapter we will discuss how to deal with data that were drawn from a Gaussian distribution and we want to get an estimate of the mean and standard deviation of that distribution.  To remind us:\n",
    "\n",
    "$$P(y \\mid \\mu, \\sigma) = \\frac{1}{{\\sigma \\sqrt {2\\pi } }}e^{{{ - \\left( {y - \\mu } \\right)^2 } /{2\\sigma ^2 }}}$$\n",
    "\n",
    "that leads us to the likelihood function to draw a set of $\\{y_{i}\\}$ from that Gaussian:\n",
    "\n",
    "$$P(\\{y_{i}\\}\\mid \\mu, \\sigma)\\propto \\prod_{i}\\frac{1}{\\sqrt{2\\pi\\sigma^2}}\\exp\\big(-\\frac{(y_{i}-\\mu)^2}{2\\sigma^2}\\big)$$\n",
    "\n",
    "the first situation that we want to consider is that we know $\\sigma$.  The posterior in this case is:\n",
    "\n",
    "$$P(\\mu \\mid \\{y_{i}\\}, \\sigma^{2}) \\propto P(\\mu \\mid \\sigma^{2})P(\\{y_{i}\\} \\mid \\mu, \\sigma^{2})$$\n",
    "\n",
    "if we assume that the prior for $\\mu$ is also a Gaussian with standard deviation $\\tau_0$ then:\n",
    "\n",
    "$$P(\\mu \\mid \\{y_{i}\\}, \\sigma^{2}) \\propto \\exp\\big(-\\frac{(\\mu -\\mu_{0})^2}{2\\tau_{0}^2}\\big) \\exp\\big(-\\sum_{i}\\frac{(y_{i}-\\mu)^2}{2\\sigma^2}\\big)$$\n",
    "\n",
    "By collecting the terms proportional to $\\mu^2$ and $\\mu$ we can rearrange and write the posterior as:\n",
    "\n",
    "$$P(\\mu \\mid \\{y_{i}\\}, \\sigma^{2}) \\propto \\exp\\big(-\\frac{(\\mu -\\mu_{N})^2}{2\\tau_{N}^2}\\big)$$\n",
    "\n",
    "with\n",
    "\n",
    "$$\\frac{1}{\\tau_{N}^{2}} = \\frac{1}{\\tau_{0}^{2}} + \\frac{N}{\\sigma^{2}}$$\n",
    "\n",
    "and\n",
    "\n",
    "$$\\mu_{N} = \\frac{\\frac{1}{\\tau_{0}^{2}}}{\\frac{1}{\\tau_{0}^{2}} + \\frac{N}{\\sigma^{2}}}\\mu_{0}+\\frac{\\frac{N}{\\sigma^{2}}}{\\frac{1}{\\tau_{0}^{2}} + \\frac{N}{\\sigma^{2}}}\\bar{y}$$\n",
    "\n",
    "using a non-informative prior of $\\tau_{0}=0$ we get the expected results of $\\mu_{N}=\\bar{y}$ and $\\tau_{N}^{2}=\\sigma^{2}/N$\n",
    "\n",
    "Now lets consider the case that we do not know $\\sigma$.  For simplicity we assume that the prior $P(\\mu,\\sigma) = const$ for $\\sigma\\ge 0$.  We then integrate out $\\sigma$ to get\n",
    "\n",
    "$$P(\\mu \\mid \\{y_{i}\\}) \\propto \\int_{0}^{\\infty}t^{N-2}\\exp\\big(-\\frac{t^2}{2}\\sum_{i}(y_{i}-\\mu)^2\\big)dt$$\n",
    "\n",
    "where we made the substitution $\\sigma=1/t$. A rescaling of t by substituting $\\tau = t\\sqrt{\\sum_{i}(y_{i}-\\mu)^2}$ reduces the posterior to:\n",
    "\n",
    "$$P(\\mu \\mid \\{y_{i}\\}) \\propto \\big[\\sum_{i}(y_{i}-\\mu)^2\\big]^{-(N-1)/2}$$\n",
    "\n",
    "This distribution turns out to be the Student t-distribution for degree of freedom $N-2$.\n",
    "Using our trick from before we can estimate the position of the maximum and the width of the maximum, which can be summarized by\n",
    "\n",
    "$$\\mu = \\bar{y} \\pm \\frac{S}{\\sqrt{N}} \\quad \\textrm{where} \\quad S^{2} = \\frac{1}{N-1}\\sum_{i}(y_{i}-\\bar{y})^2$$\n",
    "\n",
    "the fact that we don't know $\\sigma$ forces us to estimate $\\sigma$ from the data."
   ]
  },
  {
   "cell_type": "code",
   "execution_count": null,
   "metadata": {
    "collapsed": true
   },
   "outputs": [],
   "source": []
  }
 ],
 "metadata": {
  "kernelspec": {
   "display_name": "Python [conda env:python3]",
   "language": "python",
   "name": "conda-env-python3-py"
  },
  "language_info": {
   "codemirror_mode": {
    "name": "ipython",
    "version": 3
   },
   "file_extension": ".py",
   "mimetype": "text/x-python",
   "name": "python",
   "nbconvert_exporter": "python",
   "pygments_lexer": "ipython3",
   "version": "3.5.2"
  }
 },
 "nbformat": 4,
 "nbformat_minor": 1
}
